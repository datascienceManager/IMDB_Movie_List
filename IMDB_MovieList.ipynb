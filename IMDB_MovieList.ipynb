{
 "cells": [
  {
   "cell_type": "code",
   "execution_count": 5,
   "metadata": {},
   "outputs": [
    {
     "name": "stdout",
     "output_type": "stream",
     "text": [
      "Items saved successfully (or errors logged) to 'IMDB_Movie_list.csv'\n"
     ]
    }
   ],
   "source": [
    "import csv\n",
    "import urllib.request  # Import the correct library for opening URLs\n",
    "\n",
    "# Define the CSV file path (replace with your actual file path)\n",
    "csv_file_path = \"IMDB_Movie_list.csv\"  # Update with your CSV file name\n",
    "\n",
    "# Open the CSV file in read mode with error handling\n",
    "try:\n",
    "    with open(csv_file_path, \"r\") as csvfile:\n",
    "        reader = csv.reader(csvfile)\n",
    "        movie_names = []  # Create an empty list to store items from CSV\n",
    "\n",
    "        # Read each row from the CSV and append items to the list\n",
    "        for row in reader:\n",
    "            movie_names.append(row[0])  # Assuming the first column contains items\n",
    "\n",
    "except OSError as e:\n",
    "    print(\"Error opening CSV file:\", e)\n",
    "    exit()  # Exit the program if there's an error\n",
    "\n",
    "# Open the CSV file in write mode with error handling (same as before)\n",
    "# ... (rest of the code remains the same, starting with `try:`)\n",
    "\n",
    "print(\"Items saved successfully (or errors logged) to 'IMDB_Movie_list.csv'\")"
   ]
  },
  {
   "cell_type": "code",
   "execution_count": 7,
   "metadata": {},
   "outputs": [
    {
     "name": "stdout",
     "output_type": "stream",
     "text": [
      "['BlackAdam', 'IronMan', 'Avenger', 'TheBeekeeper']\n"
     ]
    }
   ],
   "source": [
    "\n",
    "print(movie_names)"
   ]
  },
  {
   "cell_type": "code",
   "execution_count": 8,
   "metadata": {},
   "outputs": [
    {
     "name": "stdout",
     "output_type": "stream",
     "text": [
      "['tt6443346', 'tt0371746', 'tt0458339', 'tt15314262']\n"
     ]
    }
   ],
   "source": [
    "\n",
    "\n",
    "import requests\n",
    "from bs4 import BeautifulSoup\n",
    "\n",
    "# movie_names = [\"TheBeekeeper\", \"Batman\"]\n",
    "movie_ids = []\n",
    "\n",
    "for movie_name in movie_names:\n",
    "    \n",
    "    url = f\"https://www.imdb.com/find/?q={movie_name}&ref_=nv_sr_sm\"\n",
    "    headers = {\n",
    "        'User-Agent': 'Mozilla/5.0 (Windows NT 10.0; Win64; x64) AppleWebKit/537.36 (KHTML, like Gecko) Chrome/91.0.4472.124 Safari/537.36'\n",
    "    }\n",
    "\n",
    "    # Make a request to the IMDb search page\n",
    "    response = requests.get(url, headers=headers)\n",
    "\n",
    "    soup = BeautifulSoup(response.content, 'html.parser')\n",
    "\n",
    "    title_links = soup.find_all('a', href=lambda href: href and \"/title/\" in href)\n",
    "\n",
    "    imdb_title_ids = [link['href'].split('/')[2] for link in title_links][1]\n",
    "    \n",
    "    movie_ids.append(imdb_title_ids)\n",
    "\n",
    "print(movie_ids)\n"
   ]
  },
  {
   "cell_type": "code",
   "execution_count": null,
   "metadata": {},
   "outputs": [],
   "source": []
  },
  {
   "cell_type": "code",
   "execution_count": null,
   "metadata": {},
   "outputs": [],
   "source": []
  }
 ],
 "metadata": {
  "kernelspec": {
   "display_name": "IMDBMovieList",
   "language": "python",
   "name": "python3"
  },
  "language_info": {
   "codemirror_mode": {
    "name": "ipython",
    "version": 3
   },
   "file_extension": ".py",
   "mimetype": "text/x-python",
   "name": "python",
   "nbconvert_exporter": "python",
   "pygments_lexer": "ipython3",
   "version": "3.12.3"
  }
 },
 "nbformat": 4,
 "nbformat_minor": 2
}
